{
 "cells": [
  {
   "cell_type": "markdown",
   "metadata": {},
   "source": [
    "# Numpy Tutorial"
   ]
  },
  {
   "cell_type": "markdown",
   "metadata": {},
   "source": [
    "## The Basics (creating arrays, shape, size, data type)"
   ]
  },
  {
   "cell_type": "code",
   "execution_count": 10,
   "metadata": {},
   "outputs": [],
   "source": [
    "import numpy as np"
   ]
  },
  {
   "cell_type": "code",
   "execution_count": 11,
   "metadata": {},
   "outputs": [
    {
     "name": "stdout",
     "output_type": "stream",
     "text": [
      "one dimensional array [10 20 30 40]\n"
     ]
    }
   ],
   "source": [
    "# 1-D array\n",
    "x = np.array([10, 20, 30, 40], dtype='int32')\n",
    "print('one dimensional array', x)"
   ]
  },
  {
   "cell_type": "code",
   "execution_count": 14,
   "metadata": {},
   "outputs": [
    {
     "name": "stdout",
     "output_type": "stream",
     "text": [
      "two dimensional array [[1. 2. 3. 4.]\n",
      " [5. 6. 7. 8.]]\n"
     ]
    }
   ],
   "source": [
    "# 2-D array\n",
    "y = np.array([[1.0, 2.0, 3.0, 4.0], [5.0, 6.0, 7.0, 8.0]])\n",
    "print('two dimensional array', y)"
   ]
  },
  {
   "cell_type": "code",
   "execution_count": 5,
   "metadata": {},
   "outputs": [
    {
     "name": "stdout",
     "output_type": "stream",
     "text": [
      "dimension of x: 1\n",
      "dimension of y: 2\n"
     ]
    }
   ],
   "source": [
    "# Get Dimension\n",
    "print('dimension of x:', x.ndim)\n",
    "print('dimension of y:',y.ndim)"
   ]
  },
  {
   "cell_type": "code",
   "execution_count": 6,
   "metadata": {},
   "outputs": [
    {
     "name": "stdout",
     "output_type": "stream",
     "text": [
      "vector of 1 dimension (4,)\n",
      "get the numbers of row and column (2, 4)\n"
     ]
    }
   ],
   "source": [
    "# Get Shape\n",
    "print('vector of 1 dimension', x.shape)\n",
    "print('get the numbers of row and column', y.shape)"
   ]
  },
  {
   "cell_type": "code",
   "execution_count": 7,
   "metadata": {},
   "outputs": [
    {
     "name": "stdout",
     "output_type": "stream",
     "text": [
      "type of variable x: int32\n",
      "type of variable y: float64\n"
     ]
    }
   ],
   "source": [
    "# Get Type\n",
    "print('type of variable x:', x.dtype)\n",
    "print('type of variable y:', y.dtype)"
   ]
  },
  {
   "cell_type": "code",
   "execution_count": 8,
   "metadata": {},
   "outputs": [
    {
     "name": "stdout",
     "output_type": "stream",
     "text": [
      "x number of byte/s: 4\n",
      "y number of byte/s: 8\n"
     ]
    }
   ],
   "source": [
    "# Get Size\n",
    "print('x number of byte/s:', x.itemsize)\n",
    "print('y number of byte/s:', y.itemsize)"
   ]
  },
  {
   "cell_type": "code",
   "execution_count": 9,
   "metadata": {},
   "outputs": [
    {
     "name": "stdout",
     "output_type": "stream",
     "text": [
      "x total size way 1: 16\n",
      "x total size way 2: 16\n",
      "y total size way 1: 64\n",
      "y total size way 2: 64\n"
     ]
    }
   ],
   "source": [
    "# Get Total Size\n",
    "print('x total size way 1:', x.size * x.itemsize)\n",
    "print('x total size way 2:', x.nbytes)\n",
    "print('y total size way 1:', y.size * y.itemsize)\n",
    "print('y total size way 2:', y.nbytes)"
   ]
  }
 ],
 "metadata": {
  "kernelspec": {
   "display_name": "Python 3",
   "language": "python",
   "name": "python3"
  },
  "language_info": {
   "codemirror_mode": {
    "name": "ipython",
    "version": 3
   },
   "file_extension": ".py",
   "mimetype": "text/x-python",
   "name": "python",
   "nbconvert_exporter": "python",
   "pygments_lexer": "ipython3",
   "version": "3.8.5"
  }
 },
 "nbformat": 4,
 "nbformat_minor": 4
}
