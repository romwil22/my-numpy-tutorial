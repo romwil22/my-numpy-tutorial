{
 "cells": [
  {
   "cell_type": "markdown",
   "metadata": {},
   "source": [
    "# Numpy Tutorial"
   ]
  },
  {
   "cell_type": "markdown",
   "metadata": {},
   "source": [
    "## Accessing/Changing Specific Elements, Rows, Columns, etc (slicing)"
   ]
  },
  {
   "cell_type": "code",
   "execution_count": 56,
   "metadata": {},
   "outputs": [],
   "source": [
    "import numpy as np"
   ]
  },
  {
   "cell_type": "code",
   "execution_count": 57,
   "metadata": {},
   "outputs": [
    {
     "name": "stdout",
     "output_type": "stream",
     "text": [
      "[[ 1  2  3  4  5]\n",
      " [ 6  7  8  9 10]]\n"
     ]
    }
   ],
   "source": [
    "x = np.array([[1,2,3,4,5], [6,7,8,9,10]])\n",
    "print(x)"
   ]
  },
  {
   "cell_type": "code",
   "execution_count": 58,
   "metadata": {},
   "outputs": [
    {
     "name": "stdout",
     "output_type": "stream",
     "text": [
      "To get the value of 3 in array: 3\n",
      "To get the value of 9 in array: 9\n"
     ]
    }
   ],
   "source": [
    "# Get specific element [row, column]\n",
    "print('To get the value of 3 in array:', x[0, 2])\n",
    "print('To get the value of 9 in array:', x[1, 3])"
   ]
  },
  {
   "cell_type": "code",
   "execution_count": 59,
   "metadata": {},
   "outputs": [
    {
     "name": "stdout",
     "output_type": "stream",
     "text": [
      "To get first row: [1 2 3 4 5]\n",
      "To get second row 8-10 value: [ 8  9 10]\n"
     ]
    }
   ],
   "source": [
    "# Get specific row\n",
    "print('To get first row:', x[0, :])\n",
    "print('To get second row 8-10 value:', x[1, 2:])"
   ]
  },
  {
   "cell_type": "code",
   "execution_count": 60,
   "metadata": {},
   "outputs": [
    {
     "name": "stdout",
     "output_type": "stream",
     "text": [
      "To get the 3rd column: [3 8]\n",
      "To get the 1st column: [1 6]\n"
     ]
    }
   ],
   "source": [
    "# Get specific column\n",
    "print('To get the 3rd column:', x[:, 2])\n",
    "print('To get the 1st column:', x[:, 0])"
   ]
  },
  {
   "cell_type": "code",
   "execution_count": 61,
   "metadata": {},
   "outputs": [
    {
     "name": "stdout",
     "output_type": "stream",
     "text": [
      "get the even numbers: [ 6  8 10]\n"
     ]
    }
   ],
   "source": [
    "# Getting a little more fancy [start-index:end-index:stepsize]\n",
    "print('get the even numbers:', x[1, 0::2])"
   ]
  },
  {
   "cell_type": "code",
   "execution_count": 62,
   "metadata": {},
   "outputs": [
    {
     "name": "stdout",
     "output_type": "stream",
     "text": [
      "new value of array: [[10  6  3  4 26]\n",
      " [ 6  2  8  9 26]]\n"
     ]
    }
   ],
   "source": [
    "# Changing the specific element value row & column\n",
    "x[0, 0] = 10 # Change the value of row 1, 1 to 10\n",
    "x[1, -1] = 1 # Change the value of row 2, 10 to 1\n",
    "x[:, 4] = 26 # Change the entire column 5, 5 and 1 to 26\n",
    "x[:, 1] = [6,2] # Change the entire column 2, 2 to 6 and 7 to 2\n",
    "print('new value of array:', x)"
   ]
  },
  {
   "cell_type": "code",
   "execution_count": 63,
   "metadata": {},
   "outputs": [
    {
     "name": "stdout",
     "output_type": "stream",
     "text": [
      "[[[11 12]\n",
      "  [13 14]]\n",
      "\n",
      " [[14 15]\n",
      "  [16 17]]]\n"
     ]
    }
   ],
   "source": [
    "# 3-D example\n",
    "y = np.array([[[11,12], [13,14]], [[14,15],[16,17]]])\n",
    "print(y)"
   ]
  },
  {
   "cell_type": "code",
   "execution_count": 64,
   "metadata": {},
   "outputs": [
    {
     "name": "stdout",
     "output_type": "stream",
     "text": [
      "Get the value of 12 in 3-d array: 12\n",
      "Get the value of 11, 12, 14 and 15 in 3-d array: [[11 12]\n",
      " [14 15]]\n",
      "Get the value of 14 and 16 in 3-d array: [14 16]\n"
     ]
    }
   ],
   "source": [
    "# Get specific element (work outside in) 3-D\n",
    "print('Get the value of 12 in 3-d array:',y[0, 0, 1])\n",
    "print('Get the value of 11, 12, 14 and 15 in 3-d array:',y[:, 0, ])\n",
    "print('Get the value of 14 and 16 in 3-d array:',y[1, :, 0])"
   ]
  },
  {
   "cell_type": "code",
   "execution_count": 69,
   "metadata": {},
   "outputs": [
    {
     "name": "stdout",
     "output_type": "stream",
     "text": [
      "[[[ 2  2]\n",
      "  [13 14]]\n",
      "\n",
      " [[14 15]\n",
      "  [ 2  2]]]\n"
     ]
    }
   ],
   "source": [
    "# Replace\n",
    "y[0,0,:] = [2,2] # change row 1 to 2 value\n",
    "y[1,1,:] = [2,2] # change row 2 to 2 value\n",
    "print(y)"
   ]
  }
 ],
 "metadata": {
  "kernelspec": {
   "display_name": "Python 3",
   "language": "python",
   "name": "python3"
  },
  "language_info": {
   "codemirror_mode": {
    "name": "ipython",
    "version": 3
   },
   "file_extension": ".py",
   "mimetype": "text/x-python",
   "name": "python",
   "nbconvert_exporter": "python",
   "pygments_lexer": "ipython3",
   "version": "3.8.5"
  }
 },
 "nbformat": 4,
 "nbformat_minor": 4
}
